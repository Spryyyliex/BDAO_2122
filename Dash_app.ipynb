{
  "nbformat": 4,
  "nbformat_minor": 0,
  "metadata": {
    "colab": {
      "name": "Dash_app.ipynb",
      "provenance": [],
      "collapsed_sections": [],
      "authorship_tag": "ABX9TyOETqWYI0PPZZ5AjkkjqYo/",
      "include_colab_link": true
    },
    "kernelspec": {
      "name": "python3",
      "display_name": "Python 3"
    },
    "language_info": {
      "name": "python"
    }
  },
  "cells": [
    {
      "cell_type": "markdown",
      "metadata": {
        "id": "view-in-github",
        "colab_type": "text"
      },
      "source": [
        "<a href=\"https://colab.research.google.com/github/mgb9/BDAO_2122/blob/main/Dash_app.ipynb\" target=\"_parent\"><img src=\"https://colab.research.google.com/assets/colab-badge.svg\" alt=\"Open In Colab\"/></a>"
      ]
    },
    {
      "cell_type": "code",
      "source": [
        "!pip install jupyter-dash\n",
        "!pip install dash\n",
        "\n",
        "\n",
        "from jupyter_dash import JupyterDash\n",
        "from dash import dcc\n",
        "from dash import html\n",
        "import plotly.express as px\n",
        "import pandas as pd\n",
        "import plotly.graph_objects as go\n",
        "from plotly.subplots import make_subplots\n",
        "\n",
        "\n",
        "\n",
        "external_stylesheets = ['https://codepen.io/chriddyp/pen/bWLwgP.css']\n",
        "\n",
        "app = JupyterDash(__name__, external_stylesheets=external_stylesheets)\n",
        "\n",
        "# assume you have a \"long-form\" data frame\n",
        "# see https://plotly.com/python/px-arguments/ for more options\n",
        "df = pd.read_csv('https://raw.githubusercontent.com/Sophia-Zheng/data/main/Happiness_report_2015.csv')\n",
        "df[\"Happiness Score\"]=df[\"Happiness Score\"].round(1)\n",
        "df1=df[df['Happiness Rank']<=10]\n",
        "\n",
        "\n",
        "fig = px.bar(df1, x='Country',y=[\"Economy (GDP per Capita)\",\"Family\",\"Health (Life Expectancy)\",\"Freedom\",\"Trust (Government Corruption)\",\"Generosity\",\"Dystopia Residual\"],barmode=\"stack\")\n",
        "fig2 = px.scatter(df, x=\"Happiness Score\", y=\"Freedom\",\n",
        "                 color=\"Country\", hover_name=\"Country\",\n",
        "                 log_x=True, size_max=60)\n",
        "fig3 = px.scatter(df, x=\"Happiness Score\", y=\"Economy (GDP per Capita)\",\n",
        "                 color=\"Country\", hover_name=\"Country\",\n",
        "                 log_x=True, size_max=60)\n",
        "fig4 = px.scatter(df, x=\"Happiness Score\", y=\"Health (Life Expectancy)\",\n",
        "                 color=\"Country\", hover_name=\"Country\",\n",
        "                 log_x=True, size_max=60)\n",
        "\n",
        "\n",
        "#fig = go.Figure(data=[\n",
        "    #go.Bar(name='Happiness score', x='Country', y=['Happiness Score']),\n",
        "    #go.Bar(name='Family', x='Country', y=['Family'])])\n",
        "\n",
        "app.layout = html.Div(children=[\n",
        "    html.Div([\n",
        "        html.H1(children='Happiness Report-2015'),\n",
        "        html.Div(children='''\n",
        "            Dash: A web application framework for Python.\n",
        "        '''),\n",
        "\n",
        "        dcc.Graph(\n",
        "            id='graph1',\n",
        "            figure=fig\n",
        "        ),\n",
        "        ]),\n",
        "    html.Div([\n",
        "        html.Div([\n",
        "            html.H1(children='Is being rich getting us happy?'),\n",
        "            html.Div(children='''\n",
        "                Dash: A web application framework for Python.\n",
        "            '''),\n",
        "\n",
        "            dcc.Graph(\n",
        "                id='graph2',\n",
        "                figure=fig3\n",
        "            ),\n",
        "            ],className='six columns'),\n",
        "        html.Div([\n",
        "            html.H1(children='Is being healthy getting us happy?'),\n",
        "            html.Div(children='''\n",
        "                Dash: A web application framework for Python.\n",
        "            '''),\n",
        "\n",
        "            dcc.Graph(\n",
        "                id='graph3',\n",
        "                figure=fig4\n",
        "            ),\n",
        "            ],className='six columns')\n",
        "        ],className='row'),\n",
        "    html.Div([\n",
        "        html.H1(children='Does more freedom get us happy?'),\n",
        "        html.Div(children='''\n",
        "            Dash: A web application framework for Python.\n",
        "        '''),\n",
        "\n",
        "        dcc.Graph(\n",
        "            id='graph4',\n",
        "            figure=fig2\n",
        "        )\n",
        "        ],className='row'),\n",
        "\n",
        "])\n",
        "\n",
        "# Run app and display result inline in the notebook\n",
        "app.run_server(mode='external')"
      ],
      "metadata": {
        "colab": {
          "base_uri": "https://localhost:8080/",
          "height": 121
        },
        "id": "YIfU3oDdbQi2",
        "outputId": "2a1e4cd6-aaf7-46b0-af64-fdde36ec6ec4"
      },
      "execution_count": 5,
      "outputs": [
        {
          "output_type": "stream",
          "name": "stderr",
          "text": [
            "/usr/local/lib/python3.7/dist-packages/jupyter_dash/jupyter_app.py:139: UserWarning:\n",
            "\n",
            "The 'environ['werkzeug.server.shutdown']' function is deprecated and will be removed in Werkzeug 2.1.\n",
            "\n"
          ]
        },
        {
          "output_type": "stream",
          "name": "stdout",
          "text": [
            "Dash app running on:\n"
          ]
        },
        {
          "output_type": "display_data",
          "data": {
            "text/plain": [
              "<IPython.core.display.Javascript object>"
            ],
            "application/javascript": [
              "(async (port, path, text, element) => {\n",
              "    if (!google.colab.kernel.accessAllowed) {\n",
              "      return;\n",
              "    }\n",
              "    element.appendChild(document.createTextNode(''));\n",
              "    const url = await google.colab.kernel.proxyPort(port);\n",
              "    const anchor = document.createElement('a');\n",
              "    anchor.href = new URL(path, url).toString();\n",
              "    anchor.target = '_blank';\n",
              "    anchor.setAttribute('data-href', url + path);\n",
              "    anchor.textContent = text;\n",
              "    element.appendChild(anchor);\n",
              "  })(8050, \"/\", \"http://127.0.0.1:8050/\", window.element)"
            ]
          },
          "metadata": {}
        }
      ]
    }
  ]
}